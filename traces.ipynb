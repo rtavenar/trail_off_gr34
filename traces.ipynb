{
 "cells": [
  {
   "cell_type": "markdown",
   "metadata": {},
   "source": [
    "# Itinéraire pour un trail _off_ sur le GR34\n",
    "\n",
    "NB: aucune idée de comment gérer l'orga de tout ça (dépose des sacs, nuitées, retour au point de départ, _etc._)"
   ]
  },
  {
   "cell_type": "code",
   "execution_count": 1,
   "metadata": {},
   "outputs": [],
   "source": [
    "import gpxpy\n",
    "from geopy import distance\n",
    "import numpy as np\n",
    "\n",
    "gpx_file = open('data/GR34_Sentier_des_douaniers.gpx', 'r')\n",
    "\n",
    "gpx = gpxpy.parse(gpx_file)\n",
    "points = [[p.latitude, p.longitude] for p in gpx.tracks[0].segments[0].points]\n",
    "\n",
    "# Subset of interest\n",
    "idx0 = 245\n",
    "indices = [idx0, 750, 1220, 1625]\n",
    "places = [\"Cancale\", \"Dinard\", \"Saint-Cast\", \"Sables d'Or\"]\n",
    "points = points[indices[0]:indices[-1]+1]\n",
    "\n",
    "# Shift everything\n",
    "indices = [idx - idx0 for idx in indices]\n",
    "\n",
    "# Cumulative distances\n",
    "point2point_distances = [0] + [distance.distance(points[i], points[i - 1]).m for i in range(1, len(points))]\n",
    "cumulative_distances = np.cumsum(point2point_distances)"
   ]
  },
  {
   "cell_type": "code",
   "execution_count": 2,
   "metadata": {},
   "outputs": [],
   "source": [
    "from ipyleaflet import Map, basemaps, basemap_to_tiles, Polyline, Marker\n",
    "from ipywidgets import HTML\n",
    "\n",
    "south = max([p[0] for p in points]) + 1\n",
    "north = min([p[0] for p in points]) - 1\n",
    "west = min([p[1] for p in points]) - 1\n",
    "east = max([p[1] for p in points]) + 1\n",
    "center = [(south + north) / 2, (west + east) /2]\n",
    "\n",
    "m = Map(basemap=basemap_to_tiles(basemaps.OpenStreetMap.Mapnik), center=center, zoom=11)\n",
    "\n",
    "# Draw line\n",
    "line = Polyline(locations=points, color=\"green\", fill=False)\n",
    "m.add_layer(line)\n",
    "\n",
    "# Add markers\n",
    "for idx, title in zip(indices, places):\n",
    "    marker = Marker(location=points[idx], draggable=False)\n",
    "    marker.popup = HTML(title + f\" ({cumulative_distances[idx] / 1000:.1f}km)\")\n",
    "    m.add_layer(marker)\n",
    "\n"
   ]
  },
  {
   "cell_type": "code",
   "execution_count": 3,
   "metadata": {},
   "outputs": [
    {
     "data": {
      "application/vnd.jupyter.widget-view+json": {
       "model_id": "69d9103e117a4b5dbd105e96e43349a8",
       "version_major": 2,
       "version_minor": 0
      },
      "text/plain": [
       "Map(center=[48.64139, -2.1189999999999998], controls=(ZoomControl(options=['position', 'zoom_in_text', 'zoom_i…"
      ]
     },
     "metadata": {},
     "output_type": "display_data"
    }
   ],
   "source": [
    "m"
   ]
  }
 ],
 "metadata": {
  "kernelspec": {
   "display_name": "Python 3.8.9 64-bit",
   "language": "python",
   "name": "python3"
  },
  "language_info": {
   "codemirror_mode": {
    "name": "ipython",
    "version": 3
   },
   "file_extension": ".py",
   "mimetype": "text/x-python",
   "name": "python",
   "nbconvert_exporter": "python",
   "pygments_lexer": "ipython3",
   "version": "3.8.9"
  },
  "orig_nbformat": 4,
  "vscode": {
   "interpreter": {
    "hash": "25f9a3951446179f6c2016b22a60b44495fe90f43bda7f3caedfe2c1a9cd31f9"
   }
  }
 },
 "nbformat": 4,
 "nbformat_minor": 2
}
